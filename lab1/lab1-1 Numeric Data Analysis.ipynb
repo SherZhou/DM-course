{
 "cells": [
  {
   "cell_type": "code",
   "execution_count": 12,
   "metadata": {},
   "outputs": [],
   "source": [
    "import numpy as np\n",
    "import pandas as pd\n",
    "import math\n",
    "import matplotlib.pyplot as plt"
   ]
  },
  {
   "cell_type": "code",
   "execution_count": 13,
   "metadata": {},
   "outputs": [
    {
     "data": {
      "text/html": [
       "<div>\n",
       "<style scoped>\n",
       "    .dataframe tbody tr th:only-of-type {\n",
       "        vertical-align: middle;\n",
       "    }\n",
       "\n",
       "    .dataframe tbody tr th {\n",
       "        vertical-align: top;\n",
       "    }\n",
       "\n",
       "    .dataframe thead th {\n",
       "        text-align: right;\n",
       "    }\n",
       "</style>\n",
       "<table border=\"1\" class=\"dataframe\">\n",
       "  <thead>\n",
       "    <tr style=\"text-align: right;\">\n",
       "      <th></th>\n",
       "      <th>fLength</th>\n",
       "      <th>fWidth</th>\n",
       "      <th>fSize</th>\n",
       "      <th>fConc</th>\n",
       "      <th>fConcl</th>\n",
       "      <th>fAsym</th>\n",
       "      <th>fM3Long</th>\n",
       "      <th>fM3Trans</th>\n",
       "      <th>fAlpha</th>\n",
       "      <th>fDist</th>\n",
       "    </tr>\n",
       "  </thead>\n",
       "  <tbody>\n",
       "    <tr>\n",
       "      <th>0</th>\n",
       "      <td>28.7967</td>\n",
       "      <td>16.0021</td>\n",
       "      <td>2.6449</td>\n",
       "      <td>0.3918</td>\n",
       "      <td>0.1982</td>\n",
       "      <td>27.7004</td>\n",
       "      <td>22.0110</td>\n",
       "      <td>-8.2027</td>\n",
       "      <td>40.0920</td>\n",
       "      <td>81.8828</td>\n",
       "    </tr>\n",
       "    <tr>\n",
       "      <th>1</th>\n",
       "      <td>31.6036</td>\n",
       "      <td>11.7235</td>\n",
       "      <td>2.5185</td>\n",
       "      <td>0.5303</td>\n",
       "      <td>0.3773</td>\n",
       "      <td>26.2722</td>\n",
       "      <td>23.8238</td>\n",
       "      <td>-9.9574</td>\n",
       "      <td>6.3609</td>\n",
       "      <td>205.2610</td>\n",
       "    </tr>\n",
       "    <tr>\n",
       "      <th>2</th>\n",
       "      <td>162.0520</td>\n",
       "      <td>136.0310</td>\n",
       "      <td>4.0612</td>\n",
       "      <td>0.0374</td>\n",
       "      <td>0.0187</td>\n",
       "      <td>116.7410</td>\n",
       "      <td>-64.8580</td>\n",
       "      <td>-45.2160</td>\n",
       "      <td>76.9600</td>\n",
       "      <td>256.7880</td>\n",
       "    </tr>\n",
       "    <tr>\n",
       "      <th>3</th>\n",
       "      <td>23.8172</td>\n",
       "      <td>9.5728</td>\n",
       "      <td>2.3385</td>\n",
       "      <td>0.6147</td>\n",
       "      <td>0.3922</td>\n",
       "      <td>27.2107</td>\n",
       "      <td>-6.4633</td>\n",
       "      <td>-7.1513</td>\n",
       "      <td>10.4490</td>\n",
       "      <td>116.7370</td>\n",
       "    </tr>\n",
       "    <tr>\n",
       "      <th>4</th>\n",
       "      <td>75.1362</td>\n",
       "      <td>30.9205</td>\n",
       "      <td>3.1611</td>\n",
       "      <td>0.3168</td>\n",
       "      <td>0.1832</td>\n",
       "      <td>-5.5277</td>\n",
       "      <td>28.5525</td>\n",
       "      <td>21.8393</td>\n",
       "      <td>4.6480</td>\n",
       "      <td>356.4620</td>\n",
       "    </tr>\n",
       "  </tbody>\n",
       "</table>\n",
       "</div>"
      ],
      "text/plain": [
       "    fLength    fWidth   fSize   fConc  fConcl     fAsym  fM3Long  fM3Trans  \\\n",
       "0   28.7967   16.0021  2.6449  0.3918  0.1982   27.7004  22.0110   -8.2027   \n",
       "1   31.6036   11.7235  2.5185  0.5303  0.3773   26.2722  23.8238   -9.9574   \n",
       "2  162.0520  136.0310  4.0612  0.0374  0.0187  116.7410 -64.8580  -45.2160   \n",
       "3   23.8172    9.5728  2.3385  0.6147  0.3922   27.2107  -6.4633   -7.1513   \n",
       "4   75.1362   30.9205  3.1611  0.3168  0.1832   -5.5277  28.5525   21.8393   \n",
       "\n",
       "    fAlpha     fDist  \n",
       "0  40.0920   81.8828  \n",
       "1   6.3609  205.2610  \n",
       "2  76.9600  256.7880  \n",
       "3  10.4490  116.7370  \n",
       "4   4.6480  356.4620  "
      ]
     },
     "execution_count": 13,
     "metadata": {},
     "output_type": "execute_result"
    }
   ],
   "source": [
    "telescope_data=pd.read_csv('https://archive.ics.uci.edu/ml/machine-learning-databases/magic/magic04.data',\n",
    "                           names = ['fLength', 'fWidth','fSize','fConc','fConcl','fAsym','fM3Long','fM3Trans','fAlpha','fDist','class'],\n",
    "                           header=None)\n",
    "df1=telescope_data.drop(['class'],axis=1)\n",
    "df1.head()"
   ]
  },
  {
   "cell_type": "code",
   "execution_count": 14,
   "metadata": {},
   "outputs": [
    {
     "data": {
      "text/plain": [
       "19020"
      ]
     },
     "execution_count": 14,
     "metadata": {},
     "output_type": "execute_result"
    }
   ],
   "source": [
    "len(df1)"
   ]
  },
  {
   "cell_type": "code",
   "execution_count": 15,
   "metadata": {},
   "outputs": [
    {
     "data": {
      "text/html": [
       "<div>\n",
       "<style scoped>\n",
       "    .dataframe tbody tr th:only-of-type {\n",
       "        vertical-align: middle;\n",
       "    }\n",
       "\n",
       "    .dataframe tbody tr th {\n",
       "        vertical-align: top;\n",
       "    }\n",
       "\n",
       "    .dataframe thead th {\n",
       "        text-align: right;\n",
       "    }\n",
       "</style>\n",
       "<table border=\"1\" class=\"dataframe\">\n",
       "  <thead>\n",
       "    <tr style=\"text-align: right;\">\n",
       "      <th></th>\n",
       "      <th>fLength</th>\n",
       "      <th>fWidth</th>\n",
       "      <th>fSize</th>\n",
       "      <th>fConc</th>\n",
       "      <th>fConcl</th>\n",
       "      <th>fAsym</th>\n",
       "      <th>fM3Long</th>\n",
       "      <th>fM3Trans</th>\n",
       "      <th>fAlpha</th>\n",
       "      <th>fDist</th>\n",
       "    </tr>\n",
       "  </thead>\n",
       "  <tbody>\n",
       "    <tr>\n",
       "      <th>0</th>\n",
       "      <td>-24.453454</td>\n",
       "      <td>-6.178866</td>\n",
       "      <td>-0.180117</td>\n",
       "      <td>0.011473</td>\n",
       "      <td>-0.016457</td>\n",
       "      <td>32.032145</td>\n",
       "      <td>11.465455</td>\n",
       "      <td>-8.452426</td>\n",
       "      <td>12.446293</td>\n",
       "      <td>-111.935226</td>\n",
       "    </tr>\n",
       "    <tr>\n",
       "      <th>1</th>\n",
       "      <td>-21.646554</td>\n",
       "      <td>-10.457466</td>\n",
       "      <td>-0.306517</td>\n",
       "      <td>0.149973</td>\n",
       "      <td>0.162643</td>\n",
       "      <td>30.603945</td>\n",
       "      <td>13.278255</td>\n",
       "      <td>-10.207126</td>\n",
       "      <td>-21.284807</td>\n",
       "      <td>11.442974</td>\n",
       "    </tr>\n",
       "    <tr>\n",
       "      <th>2</th>\n",
       "      <td>108.801846</td>\n",
       "      <td>113.850034</td>\n",
       "      <td>1.236183</td>\n",
       "      <td>-0.342927</td>\n",
       "      <td>-0.195957</td>\n",
       "      <td>121.072745</td>\n",
       "      <td>-75.403545</td>\n",
       "      <td>-45.465726</td>\n",
       "      <td>49.314293</td>\n",
       "      <td>62.969974</td>\n",
       "    </tr>\n",
       "    <tr>\n",
       "      <th>3</th>\n",
       "      <td>-29.432954</td>\n",
       "      <td>-12.608166</td>\n",
       "      <td>-0.486517</td>\n",
       "      <td>0.234373</td>\n",
       "      <td>0.177543</td>\n",
       "      <td>31.542445</td>\n",
       "      <td>-17.008845</td>\n",
       "      <td>-7.401026</td>\n",
       "      <td>-17.196707</td>\n",
       "      <td>-77.081026</td>\n",
       "    </tr>\n",
       "    <tr>\n",
       "      <th>4</th>\n",
       "      <td>21.886046</td>\n",
       "      <td>8.739534</td>\n",
       "      <td>0.336083</td>\n",
       "      <td>-0.063527</td>\n",
       "      <td>-0.031457</td>\n",
       "      <td>-1.195955</td>\n",
       "      <td>18.006955</td>\n",
       "      <td>21.589574</td>\n",
       "      <td>-22.997707</td>\n",
       "      <td>162.643974</td>\n",
       "    </tr>\n",
       "  </tbody>\n",
       "</table>\n",
       "</div>"
      ],
      "text/plain": [
       "      fLength      fWidth     fSize     fConc    fConcl       fAsym  \\\n",
       "0  -24.453454   -6.178866 -0.180117  0.011473 -0.016457   32.032145   \n",
       "1  -21.646554  -10.457466 -0.306517  0.149973  0.162643   30.603945   \n",
       "2  108.801846  113.850034  1.236183 -0.342927 -0.195957  121.072745   \n",
       "3  -29.432954  -12.608166 -0.486517  0.234373  0.177543   31.542445   \n",
       "4   21.886046    8.739534  0.336083 -0.063527 -0.031457   -1.195955   \n",
       "\n",
       "     fM3Long   fM3Trans     fAlpha       fDist  \n",
       "0  11.465455  -8.452426  12.446293 -111.935226  \n",
       "1  13.278255 -10.207126 -21.284807   11.442974  \n",
       "2 -75.403545 -45.465726  49.314293   62.969974  \n",
       "3 -17.008845  -7.401026 -17.196707  -77.081026  \n",
       "4  18.006955  21.589574 -22.997707  162.643974  "
      ]
     },
     "execution_count": 15,
     "metadata": {},
     "output_type": "execute_result"
    }
   ],
   "source": [
    "# 中心化\n",
    "df=df1.apply(lambda x:(x-np.mean(x)))\n",
    "df.head()"
   ]
  },
  {
   "cell_type": "code",
   "execution_count": 16,
   "metadata": {},
   "outputs": [
    {
     "name": "stdout",
     "output_type": "stream",
     "text": [
      "相关系数\n",
      "           fLength    fWidth     fSize     fConc    fConcl     fAsym  \\\n",
      "fLength   1.000000  0.770512  0.702454 -0.630999 -0.598145 -0.368556   \n",
      "fWidth    0.770512  1.000000  0.717517 -0.609779 -0.581141 -0.266961   \n",
      "fSize     0.702454  0.717517  1.000000 -0.850850 -0.808835 -0.159863   \n",
      "fConc    -0.630999 -0.609779 -0.850850  1.000000  0.976412  0.112272   \n",
      "fConcl   -0.598145 -0.581141 -0.808835  0.976412  1.000000  0.100159   \n",
      "fAsym    -0.368556 -0.266961 -0.159863  0.112272  0.100159  1.000000   \n",
      "fM3Long  -0.119747 -0.176234  0.095157 -0.121899 -0.118769  0.274045   \n",
      "fM3Trans  0.013389  0.039744  0.015455 -0.011294 -0.010966  0.002553   \n",
      "fAlpha   -0.008777  0.066061 -0.186675  0.235272  0.229799 -0.055689   \n",
      "fDist     0.418466  0.336816  0.437041 -0.328332 -0.304625 -0.206730   \n",
      "\n",
      "           fM3Long  fM3Trans    fAlpha     fDist  \n",
      "fLength  -0.119747  0.013389 -0.008777  0.418466  \n",
      "fWidth   -0.176234  0.039744  0.066061  0.336816  \n",
      "fSize     0.095157  0.015455 -0.186675  0.437041  \n",
      "fConc    -0.121899 -0.011294  0.235272 -0.328332  \n",
      "fConcl   -0.118769 -0.010966  0.229799 -0.304625  \n",
      "fAsym     0.274045  0.002553 -0.055689 -0.206730  \n",
      "fM3Long   1.000000 -0.017197 -0.186275  0.037025  \n",
      "fM3Trans -0.017197  1.000000  0.004659  0.011427  \n",
      "fAlpha   -0.186275  0.004659  1.000000 -0.220556  \n",
      "fDist     0.037025  0.011427 -0.220556  1.000000  \n",
      "协方差\n",
      "              fLength      fWidth      fSize     fConc    fConcl        fAsym  \\\n",
      "fLength   1794.780934  598.863542  14.064229 -4.886995 -2.800380  -924.434103   \n",
      "fWidth     598.863542  336.577782   6.221102 -2.045137 -1.178226  -289.972346   \n",
      "fSize       14.064229    6.221102   0.223349 -0.073511 -0.042243    -4.473078   \n",
      "fConc       -4.886995   -2.045137  -0.073511  0.033421  0.019726     1.215195   \n",
      "fConcl      -2.800380   -1.178226  -0.042243  0.019726  0.012213     0.655333   \n",
      "fAsym     -924.434103 -289.972346  -4.473078  1.215195  0.655333  3505.357776   \n",
      "fM3Long   -258.727155 -164.893734   2.293535 -1.136528 -0.669389   827.482747   \n",
      "fM3Trans    11.814008   15.186087   0.152121 -0.043003 -0.025239     3.147931   \n",
      "fAlpha      -9.706818   31.636694  -2.302925  1.122738  0.662907   -86.066350   \n",
      "fDist     1324.864131  461.786200  15.435467 -4.485661 -2.515795  -914.690722   \n",
      "\n",
      "              fM3Long    fM3Trans      fAlpha        fDist  \n",
      "fLength   -258.727155   11.814008   -9.706818  1324.864131  \n",
      "fWidth    -164.893734   15.186087   31.636694   461.786200  \n",
      "fSize        2.293535    0.152121   -2.302925    15.435467  \n",
      "fConc       -1.136528   -0.043003    1.122738    -4.485661  \n",
      "fConcl      -0.669389   -0.025239    0.662907    -2.515795  \n",
      "fAsym      827.482747    3.147931  -86.066350  -914.690722  \n",
      "fM3Long   2601.012037  -18.266361 -247.985080   141.115155  \n",
      "fM3Trans   -18.266361  433.782213    2.533034    17.785198  \n",
      "fAlpha    -247.985080    2.533034  681.399004  -430.253247  \n",
      "fDist      141.115155   17.785198 -430.253247  5584.839983  \n"
     ]
    }
   ],
   "source": [
    "print('相关系数')\n",
    "print(df.corr())\n",
    "print('协方差')\n",
    "print(df.cov())"
   ]
  },
  {
   "cell_type": "code",
   "execution_count": 17,
   "metadata": {},
   "outputs": [
    {
     "name": "stdout",
     "output_type": "stream",
     "text": [
      "mean_vec: \n",
      " [53.25015392744479, 22.180966219768667, 2.825016961093586, 0.3803270715036804, 0.21465713459516297, -4.331745157728706, 10.545544815983174, 0.2497259568874868, 27.645706677181913, 193.81802646687697]\n"
     ]
    }
   ],
   "source": [
    "mean_vec=[]\n",
    "a=np.array(df1.transpose())\n",
    "for i in range(10):\n",
    "    mean_vec.append(a[i].mean())\n",
    "print('mean_vec:','\\n',mean_vec)"
   ]
  },
  {
   "cell_type": "code",
   "execution_count": 18,
   "metadata": {},
   "outputs": [
    {
     "name": "stdout",
     "output_type": "stream",
     "text": [
      "cov1 \n",
      " [[1794.78093432  598.86354217   14.06422933   -4.88699477   -2.8003803\n",
      "  -924.43410297 -258.72715464   11.81400775   -9.70681761 1324.86413087]\n",
      " [ 598.86354217  336.5777816     6.22110176   -2.04513685   -1.17822641\n",
      "  -289.97234587 -164.89373393   15.18608687   31.63669384  461.78620039]\n",
      " [  14.06422933    6.22110176    0.22334948   -0.07351108   -0.04224323\n",
      "    -4.47307815    2.29353454    0.15212134   -2.30292484   15.43546731]\n",
      " [  -4.88699477   -2.04513685   -0.07351108    0.03342065    0.01972628\n",
      "     1.21519489   -1.13652751   -0.0430025     1.12273751   -4.48566053]\n",
      " [  -2.8003803    -1.17822641   -0.04224323    0.01972628    0.01221264\n",
      "     0.65533268   -0.66938915   -0.02523905    0.66290718   -2.51579453]\n",
      " [-924.43410297 -289.97234587   -4.47307815    1.21519489    0.65533268\n",
      "  3505.35777574  827.48274684    3.14793086  -86.06634976 -914.69072157]\n",
      " [-258.72715464 -164.89373393    2.29353454   -1.13652751   -0.66938915\n",
      "   827.48274684 2601.01203743  -18.26636059 -247.98508     141.11515521]\n",
      " [  11.81400775   15.18608687    0.15212134   -0.0430025    -0.02523905\n",
      "     3.14793086  -18.26636059  433.7822131     2.53303424   17.78519789]\n",
      " [  -9.70681761   31.63669384   -2.30292484    1.12273751    0.66290718\n",
      "   -86.06634976 -247.98508       2.53303424  681.39900375 -430.25324691]\n",
      " [1324.86413087  461.78620039   15.43546731   -4.48566053   -2.51579453\n",
      "  -914.69072157  141.11515521   17.78519789 -430.25324691 5584.8399827 ]]\n"
     ]
    }
   ],
   "source": [
    "# Compute the sample covariance matrix as inner products\n",
    "np.set_printoptions(suppress=True)\n",
    "centered_data=np.array(df.transpose())\n",
    "cov1=np.dot(centered_data,df)/(len(df)-1)\n",
    "print('cov1','\\n',cov1)"
   ]
  },
  {
   "cell_type": "code",
   "execution_count": 19,
   "metadata": {},
   "outputs": [
    {
     "name": "stdout",
     "output_type": "stream",
     "text": [
      "cov2 \n",
      " [[1794.78093432  598.86354217   14.06422933   -4.88699477   -2.8003803\n",
      "  -924.43410297 -258.72715464   11.81400775   -9.70681761 1324.86413087]\n",
      " [ 598.86354217  336.5777816     6.22110176   -2.04513685   -1.17822641\n",
      "  -289.97234587 -164.89373393   15.18608687   31.63669384  461.78620039]\n",
      " [  14.06422933    6.22110176    0.22334948   -0.07351108   -0.04224323\n",
      "    -4.47307815    2.29353454    0.15212134   -2.30292484   15.43546731]\n",
      " [  -4.88699477   -2.04513685   -0.07351108    0.03342065    0.01972628\n",
      "     1.21519489   -1.13652751   -0.0430025     1.12273751   -4.48566053]\n",
      " [  -2.8003803    -1.17822641   -0.04224323    0.01972628    0.01221264\n",
      "     0.65533268   -0.66938915   -0.02523905    0.66290718   -2.51579453]\n",
      " [-924.43410297 -289.97234587   -4.47307815    1.21519489    0.65533268\n",
      "  3505.35777574  827.48274684    3.14793086  -86.06634976 -914.69072157]\n",
      " [-258.72715464 -164.89373393    2.29353454   -1.13652751   -0.66938915\n",
      "   827.48274684 2601.01203743  -18.26636059 -247.98508     141.11515521]\n",
      " [  11.81400775   15.18608687    0.15212134   -0.0430025    -0.02523905\n",
      "     3.14793086  -18.26636059  433.7822131     2.53303424   17.78519789]\n",
      " [  -9.70681761   31.63669384   -2.30292484    1.12273751    0.66290718\n",
      "   -86.06634976 -247.98508       2.53303424  681.39900375 -430.25324691]\n",
      " [1324.86413087  461.78620039   15.43546731   -4.48566053   -2.51579453\n",
      "  -914.69072157  141.11515521   17.78519789 -430.25324691 5584.8399827 ]]\n"
     ]
    }
   ],
   "source": [
    "# Compute the sample covariance matrix as outer product\n",
    "cov2=np.zeros((10,10))\n",
    "for i in range(10):\n",
    "    for j in range(10):\n",
    "        cov2[i][j]=(np.sum(centered_data[i]*centered_data[j]))/(len(df)-1)\n",
    "print('cov2','\\n',cov2)"
   ]
  },
  {
   "cell_type": "code",
   "execution_count": 20,
   "metadata": {},
   "outputs": [
    {
     "name": "stdout",
     "output_type": "stream",
     "text": [
      "correlation(fLength,fWidth): 0.7705120396837165\n",
      "theta(fLength,fWidth): 0.6911522712158942\n"
     ]
    },
    {
     "data": {
      "text/plain": [
       "<matplotlib.collections.PathCollection at 0x2482a69be48>"
      ]
     },
     "execution_count": 20,
     "metadata": {},
     "output_type": "execute_result"
    },
    {
     "data": {
      "image/png": "[encoded data removed]",
      "text/plain": [
       "<Figure size 432x288 with 1 Axes>"
      ]
     },
     "metadata": {
      "needs_background": "light"
     },
     "output_type": "display_data"
    }
   ],
   "source": [
    "# correlation\n",
    "a=np.dot(centered_data[0],centered_data[1])\n",
    "b=np.sqrt(np.dot(centered_data[0],centered_data[0]))*np.sqrt(np.dot(centered_data[1],centered_data[1]))\n",
    "theta=math.acos(a/b)\n",
    "print('correlation(fLength,fWidth):',a/b)\n",
    "print('theta(fLength,fWidth):',theta)\n",
    "a=np.array(df1.transpose())\n",
    "plt.title('fLenth & fWidth plot')\n",
    "plt.xlabel('fLength')\n",
    "plt.ylabel('fWidth')\n",
    "plt.scatter(a[0],a[1],alpha=1,c='k',s=1)"
   ]
  },
  {
   "cell_type": "code",
   "execution_count": 21,
   "metadata": {},
   "outputs": [
    {
     "data": {
      "text/plain": [
       "[<matplotlib.lines.Line2D at 0x2482a411ba8>]"
      ]
     },
     "execution_count": 21,
     "metadata": {},
     "output_type": "execute_result"
    },
    {
     "data": {
      "image/png": "[encoded data removed]",
      "text/plain": [
       "<Figure size 432x288 with 1 Axes>"
      ]
     },
     "metadata": {
      "needs_background": "light"
     },
     "output_type": "display_data"
    }
   ],
   "source": [
    "# Normal distribution:probability density function\n",
    "mu=np.mean(a[0])\n",
    "sigma=np.std(a[0])\n",
    "mu,sigma\n",
    "def normfun(x):\n",
    "    pdf = np.exp(-((x - mu)**2) / (2* sigma**2)) / (sigma * np.sqrt(2*np.pi))\n",
    "    return pdf\n",
    "\n",
    "plt.xlim(-200,300)\n",
    "plt.ylim(0,0.01)\n",
    "x = np.linspace(-200, 300,10000)\n",
    "# y = np.exp(-(x - mu) ** 2 /(2* sigma **2))/(math.sqrt(2*math.pi)*sigma)\n",
    "y=normfun(x,)\n",
    "y_mu=1/(math.sqrt(2*math.pi)*sigma)\n",
    "y_sigma1=normfun(mu-sigma)\n",
    "\n",
    "plt.title('Normal distribution:probability density function\\n(μ=53.25015392744479,σ=42.363741235867913)')\n",
    "plt.xlabel('fLength')\n",
    "plt.ylabel('f(x)')\n",
    "plt.plot(x,y,'k')\n",
    "plt.plot([mu,mu],[0,y_mu],'k')"
   ]
  },
  {
   "cell_type": "code",
   "execution_count": 27,
   "metadata": {},
   "outputs": [
    {
     "name": "stdout",
     "output_type": "stream",
     "text": [
      "[34134938.58992191, 6401372.828332526, 4247.883812288351, 635.6272814308828, 232.2721369018354, 66668399.53676005, 49468647.939886525, 8250103.910958735, 12959527.65229839, 106218071.63104317]\n",
      "max: 106218071.63104317\n",
      "min: 232.2721369018354\n"
     ]
    }
   ],
   "source": [
    "# variance\n",
    "var=[]\n",
    "for i in range(10):\n",
    "    v=np.dot(centered_data[i],centered_data[i])\n",
    "    var.append(v)\n",
    "print(var)\n",
    "print('max:',max(var))\n",
    "print('min:',min(var))\n"
   ]
  },
  {
   "cell_type": "code",
   "execution_count": 32,
   "metadata": {},
   "outputs": [
    {
     "name": "stdout",
     "output_type": "stream",
     "text": [
      "cov.max: 5584.839982703778\n",
      "(array([9], dtype=int64), array([9], dtype=int64))\n",
      "cov.min: -924.4341029748748\n",
      "(array([0, 5], dtype=int64), array([5, 0], dtype=int64))\n"
     ]
    }
   ],
   "source": [
    "print('cov.max:',cov1.max())\n",
    "print(np.where(cov1==np.max(cov1)))\n",
    "print('cov.min:',cov1.min())\n",
    "print(np.where(cov1==np.min(cov1)))"
   ]
  },
  {
   "cell_type": "code",
   "execution_count": 34,
   "metadata": {},
   "outputs": [
    {
     "data": {
      "text/plain": [
       "(array([-924.43410297, -914.69072157, -430.25324691, -289.97234587,\n",
       "        -258.72715464, -247.98508   , -247.98508   , -164.89373393,\n",
       "         -86.06634976,  -18.26636059,   -9.70681761,   -9.70681761,\n",
       "          -4.88699477,   -4.48566053,   -4.47307815,   -2.8003803 ,\n",
       "          -2.51579453,   -2.30292484,   -2.30292484,   -2.04513685,\n",
       "          -1.17822641,   -1.13652751,   -0.66938915,   -0.07351108,\n",
       "          -0.0430025 ,   -0.04224323,   -0.04224323,   -0.02523905,\n",
       "           0.01221264,    0.01972628,    0.03342065,    0.15212134,\n",
       "           0.15212134,    0.22334948,    0.65533268,    0.66290718,\n",
       "           0.66290718,    1.12273751,    1.12273751,    1.21519489,\n",
       "           2.29353454,    2.29353454,    2.53303424,    2.53303424,\n",
       "           3.14793086,    3.14793086,    6.22110176,   11.81400775,\n",
       "          14.06422933,   15.18608687,   15.43546731,   17.78519789,\n",
       "          31.63669384,   31.63669384,  141.11515521,  141.11515521,\n",
       "         336.5777816 ,  433.7822131 ,  461.78620039,  598.86354217,\n",
       "         681.39900375,  827.48274684, 1324.86413087, 1324.86413087,\n",
       "        1794.78093432, 2601.01203743, 3505.35777574, 5584.8399827 ]),\n",
       " array([ 5, 59, 89, 15,  6, 68, 86, 16, 58, 67, 80,  8,  3, 39, 25,  4, 49,\n",
       "        28, 82, 13, 14, 36, 46, 23, 37, 42, 24, 47, 44, 34, 33, 27, 72, 22,\n",
       "        45, 48, 84, 83, 38, 35, 62, 26, 87, 78, 57, 75, 12,  7,  2, 17, 29,\n",
       "        79, 81, 18, 69, 96, 11, 77, 19,  1, 88, 56,  9, 90,  0, 66, 55, 99],\n",
       "       dtype=int64))"
      ]
     },
     "execution_count": 34,
     "metadata": {},
     "output_type": "execute_result"
    }
   ],
   "source": [
    "np.unique(cov1,return_index=True)"
   ]
  },
  {
   "cell_type": "code",
   "execution_count": null,
   "metadata": {},
   "outputs": [],
   "source": []
  }
 ],
 "metadata": {
  "kernelspec": {
   "display_name": "Python 3",
   "language": "python",
   "name": "python3"
  },
  "language_info": {
   "codemirror_mode": {
    "name": "ipython",
    "version": 3
   },
   "file_extension": ".py",
   "mimetype": "text/x-python",
   "name": "python",
   "nbconvert_exporter": "python",
   "pygments_lexer": "ipython3",
   "version": "3.7.3"
  }
 },
 "nbformat": 4,
 "nbformat_minor": 2
}
